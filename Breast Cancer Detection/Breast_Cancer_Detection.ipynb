{
  "nbformat": 4,
  "nbformat_minor": 0,
  "metadata": {
    "colab": {
      "name": "Breast Cancer Detection.ipynb",
      "provenance": []
    },
    "kernelspec": {
      "name": "python3",
      "display_name": "Python 3"
    },
    "language_info": {
      "name": "python"
    }
  },
  "cells": [
    {
      "cell_type": "code",
      "metadata": {
        "id": "EKLZK5kvkyik"
      },
      "source": [
        "import pandas as pd\n",
        "import numpy as np\n",
        "\n",
        "#importing datasets\n",
        "from sklearn.datasets import load_breast_cancer\n",
        "from sklearn.preprocessing import StandardScaler\n",
        "\n",
        "#importing deep learning models\n",
        "from keras.models import Sequential\n",
        "from keras.layers import Dense"
      ],
      "execution_count": 23,
      "outputs": []
    },
    {
      "cell_type": "code",
      "metadata": {
        "colab": {
          "base_uri": "https://localhost:8080/"
        },
        "id": "kVIU0kgNZg2y",
        "outputId": "914c938c-ab8c-4db2-a7a7-fc1c27c7dd67"
      },
      "source": [
        "data = load_breast_cancer()\n",
        "data.keys()"
      ],
      "execution_count": 3,
      "outputs": [
        {
          "output_type": "execute_result",
          "data": {
            "text/plain": [
              "dict_keys(['data', 'target', 'target_names', 'DESCR', 'feature_names', 'filename'])"
            ]
          },
          "metadata": {},
          "execution_count": 3
        }
      ]
    },
    {
      "cell_type": "code",
      "metadata": {
        "colab": {
          "base_uri": "https://localhost:8080/"
        },
        "id": "4KRl00ZkbKQM",
        "outputId": "94852bdf-80cc-4b04-9f94-8a96be6b2eb7"
      },
      "source": [
        "print(data['DESCR'])"
      ],
      "execution_count": 4,
      "outputs": [
        {
          "output_type": "stream",
          "name": "stdout",
          "text": [
            ".. _breast_cancer_dataset:\n",
            "\n",
            "Breast cancer wisconsin (diagnostic) dataset\n",
            "--------------------------------------------\n",
            "\n",
            "**Data Set Characteristics:**\n",
            "\n",
            "    :Number of Instances: 569\n",
            "\n",
            "    :Number of Attributes: 30 numeric, predictive attributes and the class\n",
            "\n",
            "    :Attribute Information:\n",
            "        - radius (mean of distances from center to points on the perimeter)\n",
            "        - texture (standard deviation of gray-scale values)\n",
            "        - perimeter\n",
            "        - area\n",
            "        - smoothness (local variation in radius lengths)\n",
            "        - compactness (perimeter^2 / area - 1.0)\n",
            "        - concavity (severity of concave portions of the contour)\n",
            "        - concave points (number of concave portions of the contour)\n",
            "        - symmetry \n",
            "        - fractal dimension (\"coastline approximation\" - 1)\n",
            "\n",
            "        The mean, standard error, and \"worst\" or largest (mean of the three\n",
            "        largest values) of these features were computed for each image,\n",
            "        resulting in 30 features.  For instance, field 3 is Mean Radius, field\n",
            "        13 is Radius SE, field 23 is Worst Radius.\n",
            "\n",
            "        - class:\n",
            "                - WDBC-Malignant\n",
            "                - WDBC-Benign\n",
            "\n",
            "    :Summary Statistics:\n",
            "\n",
            "    ===================================== ====== ======\n",
            "                                           Min    Max\n",
            "    ===================================== ====== ======\n",
            "    radius (mean):                        6.981  28.11\n",
            "    texture (mean):                       9.71   39.28\n",
            "    perimeter (mean):                     43.79  188.5\n",
            "    area (mean):                          143.5  2501.0\n",
            "    smoothness (mean):                    0.053  0.163\n",
            "    compactness (mean):                   0.019  0.345\n",
            "    concavity (mean):                     0.0    0.427\n",
            "    concave points (mean):                0.0    0.201\n",
            "    symmetry (mean):                      0.106  0.304\n",
            "    fractal dimension (mean):             0.05   0.097\n",
            "    radius (standard error):              0.112  2.873\n",
            "    texture (standard error):             0.36   4.885\n",
            "    perimeter (standard error):           0.757  21.98\n",
            "    area (standard error):                6.802  542.2\n",
            "    smoothness (standard error):          0.002  0.031\n",
            "    compactness (standard error):         0.002  0.135\n",
            "    concavity (standard error):           0.0    0.396\n",
            "    concave points (standard error):      0.0    0.053\n",
            "    symmetry (standard error):            0.008  0.079\n",
            "    fractal dimension (standard error):   0.001  0.03\n",
            "    radius (worst):                       7.93   36.04\n",
            "    texture (worst):                      12.02  49.54\n",
            "    perimeter (worst):                    50.41  251.2\n",
            "    area (worst):                         185.2  4254.0\n",
            "    smoothness (worst):                   0.071  0.223\n",
            "    compactness (worst):                  0.027  1.058\n",
            "    concavity (worst):                    0.0    1.252\n",
            "    concave points (worst):               0.0    0.291\n",
            "    symmetry (worst):                     0.156  0.664\n",
            "    fractal dimension (worst):            0.055  0.208\n",
            "    ===================================== ====== ======\n",
            "\n",
            "    :Missing Attribute Values: None\n",
            "\n",
            "    :Class Distribution: 212 - Malignant, 357 - Benign\n",
            "\n",
            "    :Creator:  Dr. William H. Wolberg, W. Nick Street, Olvi L. Mangasarian\n",
            "\n",
            "    :Donor: Nick Street\n",
            "\n",
            "    :Date: November, 1995\n",
            "\n",
            "This is a copy of UCI ML Breast Cancer Wisconsin (Diagnostic) datasets.\n",
            "https://goo.gl/U2Uwz2\n",
            "\n",
            "Features are computed from a digitized image of a fine needle\n",
            "aspirate (FNA) of a breast mass.  They describe\n",
            "characteristics of the cell nuclei present in the image.\n",
            "\n",
            "Separating plane described above was obtained using\n",
            "Multisurface Method-Tree (MSM-T) [K. P. Bennett, \"Decision Tree\n",
            "Construction Via Linear Programming.\" Proceedings of the 4th\n",
            "Midwest Artificial Intelligence and Cognitive Science Society,\n",
            "pp. 97-101, 1992], a classification method which uses linear\n",
            "programming to construct a decision tree.  Relevant features\n",
            "were selected using an exhaustive search in the space of 1-4\n",
            "features and 1-3 separating planes.\n",
            "\n",
            "The actual linear program used to obtain the separating plane\n",
            "in the 3-dimensional space is that described in:\n",
            "[K. P. Bennett and O. L. Mangasarian: \"Robust Linear\n",
            "Programming Discrimination of Two Linearly Inseparable Sets\",\n",
            "Optimization Methods and Software 1, 1992, 23-34].\n",
            "\n",
            "This database is also available through the UW CS ftp server:\n",
            "\n",
            "ftp ftp.cs.wisc.edu\n",
            "cd math-prog/cpo-dataset/machine-learn/WDBC/\n",
            "\n",
            ".. topic:: References\n",
            "\n",
            "   - W.N. Street, W.H. Wolberg and O.L. Mangasarian. Nuclear feature extraction \n",
            "     for breast tumor diagnosis. IS&T/SPIE 1993 International Symposium on \n",
            "     Electronic Imaging: Science and Technology, volume 1905, pages 861-870,\n",
            "     San Jose, CA, 1993.\n",
            "   - O.L. Mangasarian, W.N. Street and W.H. Wolberg. Breast cancer diagnosis and \n",
            "     prognosis via linear programming. Operations Research, 43(4), pages 570-577, \n",
            "     July-August 1995.\n",
            "   - W.H. Wolberg, W.N. Street, and O.L. Mangasarian. Machine learning techniques\n",
            "     to diagnose breast cancer from fine-needle aspirates. Cancer Letters 77 (1994) \n",
            "     163-171.\n"
          ]
        }
      ]
    },
    {
      "cell_type": "code",
      "metadata": {
        "id": "o6iRxTddqOBk"
      },
      "source": [
        "feature = data['data']"
      ],
      "execution_count": 5,
      "outputs": []
    },
    {
      "cell_type": "code",
      "metadata": {
        "id": "EF38pjNFrbWo"
      },
      "source": [
        "label = data['target']"
      ],
      "execution_count": 6,
      "outputs": []
    },
    {
      "cell_type": "code",
      "metadata": {
        "colab": {
          "base_uri": "https://localhost:8080/"
        },
        "id": "OjS5pRKobuIN",
        "outputId": "35e6df0d-08b4-48fc-9ef6-b7f5a6e9ab61"
      },
      "source": [
        "data['target_names']"
      ],
      "execution_count": 8,
      "outputs": [
        {
          "output_type": "execute_result",
          "data": {
            "text/plain": [
              "array(['malignant', 'benign'], dtype='<U9')"
            ]
          },
          "metadata": {},
          "execution_count": 8
        }
      ]
    },
    {
      "cell_type": "code",
      "metadata": {
        "colab": {
          "base_uri": "https://localhost:8080/"
        },
        "id": "lLXvFAOgb4eh",
        "outputId": "8cdfe8e8-8cc7-46ae-c9bf-ed480a16b76b"
      },
      "source": [
        "feature.shape"
      ],
      "execution_count": 9,
      "outputs": [
        {
          "output_type": "execute_result",
          "data": {
            "text/plain": [
              "(569, 30)"
            ]
          },
          "metadata": {},
          "execution_count": 9
        }
      ]
    },
    {
      "cell_type": "code",
      "metadata": {
        "colab": {
          "base_uri": "https://localhost:8080/"
        },
        "id": "Dnk5usfBb7Te",
        "outputId": "75ef6a08-3449-4d9a-b99f-c35f48435cc5"
      },
      "source": [
        "label.shape"
      ],
      "execution_count": 10,
      "outputs": [
        {
          "output_type": "execute_result",
          "data": {
            "text/plain": [
              "(569,)"
            ]
          },
          "metadata": {},
          "execution_count": 10
        }
      ]
    },
    {
      "cell_type": "code",
      "metadata": {
        "id": "VsrTi3avcKHU"
      },
      "source": [
        "scale = StandardScaler()\n",
        "feature = scale.fit_transform(feature)"
      ],
      "execution_count": 11,
      "outputs": []
    },
    {
      "cell_type": "code",
      "metadata": {
        "colab": {
          "base_uri": "https://localhost:8080/"
        },
        "id": "YPOxVye3cQu9",
        "outputId": "726bb38b-3930-4a0d-add6-8d87121bea1b"
      },
      "source": [
        "j = 0\n",
        "for i in data['feature_names']:\n",
        "  print(i,\":\",feature[0][j])\n",
        "  j+=1"
      ],
      "execution_count": 12,
      "outputs": [
        {
          "output_type": "stream",
          "name": "stdout",
          "text": [
            "mean radius : 1.0970639814699807\n",
            "mean texture : -2.0733350146975935\n",
            "mean perimeter : 1.2699336881399383\n",
            "mean area : 0.9843749048031144\n",
            "mean smoothness : 1.568466329243428\n",
            "mean compactness : 3.2835146709868264\n",
            "mean concavity : 2.652873983743168\n",
            "mean concave points : 2.532475216403245\n",
            "mean symmetry : 2.2175150059646405\n",
            "mean fractal dimension : 2.255746885296269\n",
            "radius error : 2.4897339267376193\n",
            "texture error : -0.5652650590684639\n",
            "perimeter error : 2.833030865855184\n",
            "area error : 2.4875775569611043\n",
            "smoothness error : -0.21400164666895383\n",
            "compactness error : 1.3168615683959484\n",
            "concavity error : 0.72402615808036\n",
            "concave points error : 0.6608199414286064\n",
            "symmetry error : 1.1487566671861758\n",
            "fractal dimension error : 0.9070830809973359\n",
            "worst radius : 1.8866896251792757\n",
            "worst texture : -1.3592934737640827\n",
            "worst perimeter : 2.3036006236225606\n",
            "worst area : 2.0012374893299207\n",
            "worst smoothness : 1.3076862710715387\n",
            "worst compactness : 2.616665023512603\n",
            "worst concavity : 2.1095263465722556\n",
            "worst concave points : 2.296076127561788\n",
            "worst symmetry : 2.750622244124955\n",
            "worst fractal dimension : 1.9370146123781782\n"
          ]
        }
      ]
    },
    {
      "cell_type": "code",
      "metadata": {
        "colab": {
          "base_uri": "https://localhost:8080/"
        },
        "id": "5lt08xmocbzW",
        "outputId": "28dd7f20-dbf8-4a78-c42d-51facdb4e6de"
      },
      "source": [
        "print(feature[568])\n",
        "print(data['target_names'][label[568]],label[568])"
      ],
      "execution_count": 13,
      "outputs": [
        {
          "output_type": "stream",
          "name": "stdout",
          "text": [
            "[-1.80840125  1.22179204 -1.81438851 -1.34778924 -3.11208479 -1.15075248\n",
            " -1.11487284 -1.26181958 -0.8200699  -0.56103238 -0.07027874  0.3830925\n",
            " -0.15744905 -0.46615196  0.04934236 -1.16351619 -1.05750068 -1.91344745\n",
            "  0.75282996 -0.382754   -1.41089258  0.76418957 -1.43273495 -1.07581292\n",
            " -1.85901852 -1.2075525  -1.30583065 -1.74506282 -0.04813821 -0.75120669]\n",
            "benign 1\n"
          ]
        }
      ]
    },
    {
      "cell_type": "code",
      "metadata": {
        "id": "iZ1mCrJvcjFh"
      },
      "source": [
        "df_frt = pd.DataFrame(feature , columns = data['feature_names'])\n",
        "df_lbl = pd.DataFrame(label , columns = ['label'])\n",
        "df = pd.concat([df_frt, df_lbl], axis=1)\n",
        "df = df.sample(frac = 1)\n",
        "\n",
        "feature = df.values[ : , : 30]\n",
        "label = df.values[ : ,30: ]"
      ],
      "execution_count": 14,
      "outputs": []
    },
    {
      "cell_type": "code",
      "metadata": {
        "colab": {
          "base_uri": "https://localhost:8080/",
          "height": 470
        },
        "id": "mIXCG9zfcq7W",
        "outputId": "8b84a2e1-4da6-4ec7-b40a-a8992ceb628c"
      },
      "source": [
        "df"
      ],
      "execution_count": 15,
      "outputs": [
        {
          "output_type": "execute_result",
          "data": {
            "text/html": [
              "<div>\n",
              "<style scoped>\n",
              "    .dataframe tbody tr th:only-of-type {\n",
              "        vertical-align: middle;\n",
              "    }\n",
              "\n",
              "    .dataframe tbody tr th {\n",
              "        vertical-align: top;\n",
              "    }\n",
              "\n",
              "    .dataframe thead th {\n",
              "        text-align: right;\n",
              "    }\n",
              "</style>\n",
              "<table border=\"1\" class=\"dataframe\">\n",
              "  <thead>\n",
              "    <tr style=\"text-align: right;\">\n",
              "      <th></th>\n",
              "      <th>mean radius</th>\n",
              "      <th>mean texture</th>\n",
              "      <th>mean perimeter</th>\n",
              "      <th>mean area</th>\n",
              "      <th>mean smoothness</th>\n",
              "      <th>mean compactness</th>\n",
              "      <th>mean concavity</th>\n",
              "      <th>mean concave points</th>\n",
              "      <th>mean symmetry</th>\n",
              "      <th>mean fractal dimension</th>\n",
              "      <th>radius error</th>\n",
              "      <th>texture error</th>\n",
              "      <th>perimeter error</th>\n",
              "      <th>area error</th>\n",
              "      <th>smoothness error</th>\n",
              "      <th>compactness error</th>\n",
              "      <th>concavity error</th>\n",
              "      <th>concave points error</th>\n",
              "      <th>symmetry error</th>\n",
              "      <th>fractal dimension error</th>\n",
              "      <th>worst radius</th>\n",
              "      <th>worst texture</th>\n",
              "      <th>worst perimeter</th>\n",
              "      <th>worst area</th>\n",
              "      <th>worst smoothness</th>\n",
              "      <th>worst compactness</th>\n",
              "      <th>worst concavity</th>\n",
              "      <th>worst concave points</th>\n",
              "      <th>worst symmetry</th>\n",
              "      <th>worst fractal dimension</th>\n",
              "      <th>label</th>\n",
              "    </tr>\n",
              "  </thead>\n",
              "  <tbody>\n",
              "    <tr>\n",
              "      <th>218</th>\n",
              "      <td>1.611130</td>\n",
              "      <td>0.528326</td>\n",
              "      <td>1.554146</td>\n",
              "      <td>1.635674</td>\n",
              "      <td>-0.180069</td>\n",
              "      <td>0.497647</td>\n",
              "      <td>0.482119</td>\n",
              "      <td>0.979935</td>\n",
              "      <td>1.030958</td>\n",
              "      <td>-0.990566</td>\n",
              "      <td>1.985527</td>\n",
              "      <td>-0.055979</td>\n",
              "      <td>1.792477</td>\n",
              "      <td>1.849528</td>\n",
              "      <td>-0.078996</td>\n",
              "      <td>0.347178</td>\n",
              "      <td>0.085090</td>\n",
              "      <td>0.863582</td>\n",
              "      <td>-0.190372</td>\n",
              "      <td>0.094599</td>\n",
              "      <td>1.959169</td>\n",
              "      <td>0.482470</td>\n",
              "      <td>1.877663</td>\n",
              "      <td>1.983658</td>\n",
              "      <td>0.128501</td>\n",
              "      <td>0.440431</td>\n",
              "      <td>0.429434</td>\n",
              "      <td>1.026178</td>\n",
              "      <td>0.273800</td>\n",
              "      <td>-0.077350</td>\n",
              "      <td>0</td>\n",
              "    </tr>\n",
              "    <tr>\n",
              "      <th>102</th>\n",
              "      <td>-0.553058</td>\n",
              "      <td>0.286311</td>\n",
              "      <td>-0.607516</td>\n",
              "      <td>-0.557982</td>\n",
              "      <td>-1.155035</td>\n",
              "      <td>-1.212155</td>\n",
              "      <td>-0.815688</td>\n",
              "      <td>-0.805266</td>\n",
              "      <td>-0.265127</td>\n",
              "      <td>-0.854476</td>\n",
              "      <td>-0.767939</td>\n",
              "      <td>0.642544</td>\n",
              "      <td>-0.833166</td>\n",
              "      <td>-0.564500</td>\n",
              "      <td>-0.653686</td>\n",
              "      <td>-1.083147</td>\n",
              "      <td>-0.703052</td>\n",
              "      <td>-0.810908</td>\n",
              "      <td>-0.735225</td>\n",
              "      <td>-0.855946</td>\n",
              "      <td>-0.606584</td>\n",
              "      <td>1.166414</td>\n",
              "      <td>-0.675579</td>\n",
              "      <td>-0.585004</td>\n",
              "      <td>-0.879725</td>\n",
              "      <td>-1.053734</td>\n",
              "      <td>-0.756514</td>\n",
              "      <td>-0.613574</td>\n",
              "      <td>-0.334485</td>\n",
              "      <td>-0.840426</td>\n",
              "      <td>1</td>\n",
              "    </tr>\n",
              "    <tr>\n",
              "      <th>207</th>\n",
              "      <td>0.818730</td>\n",
              "      <td>0.225807</td>\n",
              "      <td>0.730342</td>\n",
              "      <td>0.709350</td>\n",
              "      <td>-0.614889</td>\n",
              "      <td>-0.593200</td>\n",
              "      <td>-0.242302</td>\n",
              "      <td>0.128476</td>\n",
              "      <td>0.782694</td>\n",
              "      <td>-1.498069</td>\n",
              "      <td>0.651924</td>\n",
              "      <td>-0.655801</td>\n",
              "      <td>0.613809</td>\n",
              "      <td>0.618752</td>\n",
              "      <td>-0.667687</td>\n",
              "      <td>-0.583942</td>\n",
              "      <td>-0.412265</td>\n",
              "      <td>-0.091833</td>\n",
              "      <td>0.290310</td>\n",
              "      <td>-0.459161</td>\n",
              "      <td>0.731169</td>\n",
              "      <td>-0.102139</td>\n",
              "      <td>0.677294</td>\n",
              "      <td>0.579086</td>\n",
              "      <td>-0.932328</td>\n",
              "      <td>-0.672177</td>\n",
              "      <td>-0.378949</td>\n",
              "      <td>-0.076228</td>\n",
              "      <td>0.605445</td>\n",
              "      <td>-1.067077</td>\n",
              "      <td>0</td>\n",
              "    </tr>\n",
              "    <tr>\n",
              "      <th>5</th>\n",
              "      <td>-0.476375</td>\n",
              "      <td>-0.835335</td>\n",
              "      <td>-0.387148</td>\n",
              "      <td>-0.505650</td>\n",
              "      <td>2.237421</td>\n",
              "      <td>1.244335</td>\n",
              "      <td>0.866302</td>\n",
              "      <td>0.824656</td>\n",
              "      <td>1.005402</td>\n",
              "      <td>1.890005</td>\n",
              "      <td>-0.255070</td>\n",
              "      <td>-0.592662</td>\n",
              "      <td>-0.321304</td>\n",
              "      <td>-0.289258</td>\n",
              "      <td>0.156347</td>\n",
              "      <td>0.445544</td>\n",
              "      <td>0.160025</td>\n",
              "      <td>-0.069124</td>\n",
              "      <td>0.134119</td>\n",
              "      <td>0.486846</td>\n",
              "      <td>-0.165498</td>\n",
              "      <td>-0.313836</td>\n",
              "      <td>-0.115009</td>\n",
              "      <td>-0.244320</td>\n",
              "      <td>2.048513</td>\n",
              "      <td>1.721616</td>\n",
              "      <td>1.263243</td>\n",
              "      <td>0.905888</td>\n",
              "      <td>1.754069</td>\n",
              "      <td>2.241802</td>\n",
              "      <td>0</td>\n",
              "    </tr>\n",
              "    <tr>\n",
              "      <th>537</th>\n",
              "      <td>-0.692225</td>\n",
              "      <td>1.198521</td>\n",
              "      <td>-0.642527</td>\n",
              "      <td>-0.706729</td>\n",
              "      <td>1.938527</td>\n",
              "      <td>0.963854</td>\n",
              "      <td>-0.548016</td>\n",
              "      <td>-0.093094</td>\n",
              "      <td>1.166043</td>\n",
              "      <td>1.595143</td>\n",
              "      <td>-0.395108</td>\n",
              "      <td>1.380982</td>\n",
              "      <td>-0.350511</td>\n",
              "      <td>-0.426549</td>\n",
              "      <td>1.946419</td>\n",
              "      <td>0.529378</td>\n",
              "      <td>-0.439122</td>\n",
              "      <td>0.951175</td>\n",
              "      <td>-0.598406</td>\n",
              "      <td>0.767508</td>\n",
              "      <td>-0.681134</td>\n",
              "      <td>1.060565</td>\n",
              "      <td>-0.629709</td>\n",
              "      <td>-0.690654</td>\n",
              "      <td>1.947690</td>\n",
              "      <td>0.450609</td>\n",
              "      <td>-0.636576</td>\n",
              "      <td>0.246576</td>\n",
              "      <td>-0.158147</td>\n",
              "      <td>0.873031</td>\n",
              "      <td>1</td>\n",
              "    </tr>\n",
              "    <tr>\n",
              "      <th>...</th>\n",
              "      <td>...</td>\n",
              "      <td>...</td>\n",
              "      <td>...</td>\n",
              "      <td>...</td>\n",
              "      <td>...</td>\n",
              "      <td>...</td>\n",
              "      <td>...</td>\n",
              "      <td>...</td>\n",
              "      <td>...</td>\n",
              "      <td>...</td>\n",
              "      <td>...</td>\n",
              "      <td>...</td>\n",
              "      <td>...</td>\n",
              "      <td>...</td>\n",
              "      <td>...</td>\n",
              "      <td>...</td>\n",
              "      <td>...</td>\n",
              "      <td>...</td>\n",
              "      <td>...</td>\n",
              "      <td>...</td>\n",
              "      <td>...</td>\n",
              "      <td>...</td>\n",
              "      <td>...</td>\n",
              "      <td>...</td>\n",
              "      <td>...</td>\n",
              "      <td>...</td>\n",
              "      <td>...</td>\n",
              "      <td>...</td>\n",
              "      <td>...</td>\n",
              "      <td>...</td>\n",
              "      <td>...</td>\n",
              "    </tr>\n",
              "    <tr>\n",
              "      <th>252</th>\n",
              "      <td>1.591249</td>\n",
              "      <td>0.123416</td>\n",
              "      <td>1.595336</td>\n",
              "      <td>1.567416</td>\n",
              "      <td>0.700248</td>\n",
              "      <td>1.526713</td>\n",
              "      <td>1.919664</td>\n",
              "      <td>1.250514</td>\n",
              "      <td>-0.287032</td>\n",
              "      <td>0.591480</td>\n",
              "      <td>1.302665</td>\n",
              "      <td>-0.792602</td>\n",
              "      <td>0.618264</td>\n",
              "      <td>1.154494</td>\n",
              "      <td>0.480360</td>\n",
              "      <td>1.402373</td>\n",
              "      <td>1.197177</td>\n",
              "      <td>1.283705</td>\n",
              "      <td>-0.711009</td>\n",
              "      <td>1.310299</td>\n",
              "      <td>1.865981</td>\n",
              "      <td>-0.014204</td>\n",
              "      <td>1.564912</td>\n",
              "      <td>1.850057</td>\n",
              "      <td>1.693442</td>\n",
              "      <td>2.170731</td>\n",
              "      <td>2.766787</td>\n",
              "      <td>2.072245</td>\n",
              "      <td>-0.245507</td>\n",
              "      <td>2.535505</td>\n",
              "      <td>0</td>\n",
              "    </tr>\n",
              "    <tr>\n",
              "      <th>304</th>\n",
              "      <td>-0.757549</td>\n",
              "      <td>-0.262877</td>\n",
              "      <td>-0.757036</td>\n",
              "      <td>-0.716114</td>\n",
              "      <td>-0.557245</td>\n",
              "      <td>-0.519289</td>\n",
              "      <td>-0.695035</td>\n",
              "      <td>-0.874394</td>\n",
              "      <td>-1.462636</td>\n",
              "      <td>-0.052113</td>\n",
              "      <td>-0.279252</td>\n",
              "      <td>-0.286400</td>\n",
              "      <td>-0.193586</td>\n",
              "      <td>-0.382985</td>\n",
              "      <td>-0.129665</td>\n",
              "      <td>0.058229</td>\n",
              "      <td>-0.321083</td>\n",
              "      <td>-0.647077</td>\n",
              "      <td>-0.194004</td>\n",
              "      <td>-0.145212</td>\n",
              "      <td>-0.743259</td>\n",
              "      <td>-0.662322</td>\n",
              "      <td>-0.731874</td>\n",
              "      <td>-0.686963</td>\n",
              "      <td>-0.787669</td>\n",
              "      <td>-0.479427</td>\n",
              "      <td>-0.717654</td>\n",
              "      <td>-0.906230</td>\n",
              "      <td>-1.120727</td>\n",
              "      <td>-0.419266</td>\n",
              "      <td>1</td>\n",
              "    </tr>\n",
              "    <tr>\n",
              "      <th>106</th>\n",
              "      <td>-0.706426</td>\n",
              "      <td>-0.223317</td>\n",
              "      <td>-0.691956</td>\n",
              "      <td>-0.689379</td>\n",
              "      <td>1.269571</td>\n",
              "      <td>-0.050051</td>\n",
              "      <td>-0.227236</td>\n",
              "      <td>-0.362899</td>\n",
              "      <td>-0.038768</td>\n",
              "      <td>0.340564</td>\n",
              "      <td>-0.357933</td>\n",
              "      <td>0.798577</td>\n",
              "      <td>-0.351996</td>\n",
              "      <td>-0.433809</td>\n",
              "      <td>0.499694</td>\n",
              "      <td>-0.132913</td>\n",
              "      <td>-0.081026</td>\n",
              "      <td>0.354244</td>\n",
              "      <td>-0.592352</td>\n",
              "      <td>0.017058</td>\n",
              "      <td>-0.648001</td>\n",
              "      <td>0.583433</td>\n",
              "      <td>-0.647878</td>\n",
              "      <td>-0.630885</td>\n",
              "      <td>1.597003</td>\n",
              "      <td>0.074651</td>\n",
              "      <td>0.072498</td>\n",
              "      <td>0.109537</td>\n",
              "      <td>-0.153294</td>\n",
              "      <td>0.389251</td>\n",
              "      <td>1</td>\n",
              "    </tr>\n",
              "    <tr>\n",
              "      <th>152</th>\n",
              "      <td>-1.248609</td>\n",
              "      <td>-0.919110</td>\n",
              "      <td>-1.161112</td>\n",
              "      <td>-1.008772</td>\n",
              "      <td>0.771413</td>\n",
              "      <td>1.052926</td>\n",
              "      <td>4.042709</td>\n",
              "      <td>0.764814</td>\n",
              "      <td>2.688487</td>\n",
              "      <td>4.275833</td>\n",
              "      <td>1.513443</td>\n",
              "      <td>2.625622</td>\n",
              "      <td>0.597473</td>\n",
              "      <td>0.209301</td>\n",
              "      <td>1.309727</td>\n",
              "      <td>3.933610</td>\n",
              "      <td>12.072680</td>\n",
              "      <td>6.649601</td>\n",
              "      <td>1.806213</td>\n",
              "      <td>9.851593</td>\n",
              "      <td>-1.087016</td>\n",
              "      <td>-1.007551</td>\n",
              "      <td>-1.078879</td>\n",
              "      <td>-0.879102</td>\n",
              "      <td>-0.138898</td>\n",
              "      <td>0.145898</td>\n",
              "      <td>2.635815</td>\n",
              "      <td>0.647036</td>\n",
              "      <td>0.335276</td>\n",
              "      <td>2.324925</td>\n",
              "      <td>1</td>\n",
              "    </tr>\n",
              "    <tr>\n",
              "      <th>128</th>\n",
              "      <td>0.276263</td>\n",
              "      <td>-0.674768</td>\n",
              "      <td>0.313497</td>\n",
              "      <td>0.055775</td>\n",
              "      <td>1.326504</td>\n",
              "      <td>1.447116</td>\n",
              "      <td>0.313883</td>\n",
              "      <td>0.939439</td>\n",
              "      <td>0.691421</td>\n",
              "      <td>0.265431</td>\n",
              "      <td>0.092858</td>\n",
              "      <td>-0.270071</td>\n",
              "      <td>-0.034681</td>\n",
              "      <td>-0.010937</td>\n",
              "      <td>0.655034</td>\n",
              "      <td>0.915016</td>\n",
              "      <td>0.004850</td>\n",
              "      <td>1.749247</td>\n",
              "      <td>0.361746</td>\n",
              "      <td>0.449777</td>\n",
              "      <td>-0.032965</td>\n",
              "      <td>-1.196450</td>\n",
              "      <td>-0.040545</td>\n",
              "      <td>-0.207404</td>\n",
              "      <td>0.273159</td>\n",
              "      <td>0.216510</td>\n",
              "      <td>-0.365516</td>\n",
              "      <td>0.421682</td>\n",
              "      <td>-0.502735</td>\n",
              "      <td>-0.341130</td>\n",
              "      <td>1</td>\n",
              "    </tr>\n",
              "  </tbody>\n",
              "</table>\n",
              "<p>569 rows × 31 columns</p>\n",
              "</div>"
            ],
            "text/plain": [
              "     mean radius  mean texture  ...  worst fractal dimension  label\n",
              "218     1.611130      0.528326  ...                -0.077350      0\n",
              "102    -0.553058      0.286311  ...                -0.840426      1\n",
              "207     0.818730      0.225807  ...                -1.067077      0\n",
              "5      -0.476375     -0.835335  ...                 2.241802      0\n",
              "537    -0.692225      1.198521  ...                 0.873031      1\n",
              "..           ...           ...  ...                      ...    ...\n",
              "252     1.591249      0.123416  ...                 2.535505      0\n",
              "304    -0.757549     -0.262877  ...                -0.419266      1\n",
              "106    -0.706426     -0.223317  ...                 0.389251      1\n",
              "152    -1.248609     -0.919110  ...                 2.324925      1\n",
              "128     0.276263     -0.674768  ...                -0.341130      1\n",
              "\n",
              "[569 rows x 31 columns]"
            ]
          },
          "metadata": {},
          "execution_count": 15
        }
      ]
    },
    {
      "cell_type": "code",
      "metadata": {
        "id": "9nTI2sm2kfqV"
      },
      "source": [
        "#Training Data - 500\n",
        "X_train = feature[:500]\n",
        "Y_train = label[:500]\n",
        "\n",
        "#Validation Data - 35\n",
        "X_val = feature[500:535]\n",
        "Y_val = label[500:535]\n",
        "\n",
        "#Testing Data - 34\n",
        "X_test = feature[535:]\n",
        "Y_test = label[535:]"
      ],
      "execution_count": 16,
      "outputs": []
    },
    {
      "cell_type": "code",
      "metadata": {
        "id": "djvZz78Umvxm"
      },
      "source": [
        "model = Sequential()\n",
        "\n",
        "model.add(Dense(32, activation = 'relu', input_dim = 30))\n",
        "model.add(Dense(64, activation = 'relu'))\n",
        "model.add(Dense(128, activation = 'relu'))\n",
        "model.add(Dense(64, activation = 'relu'))\n",
        "model.add(Dense(32, activation = 'relu'))\n",
        "model.add(Dense(1, activation = 'sigmoid'))\n",
        "\n",
        "model.compile( loss = 'binary_crossentropy' , optimizer = 'adam' , metrics = ['accuracy'])"
      ],
      "execution_count": 17,
      "outputs": []
    },
    {
      "cell_type": "code",
      "metadata": {
        "colab": {
          "base_uri": "https://localhost:8080/"
        },
        "id": "Gf12jvTudI6w",
        "outputId": "a88cd0db-94bd-4351-f487-c0ce3bae4c52"
      },
      "source": [
        "model.fit( X_train , Y_train, epochs = 10, batch_size = 5, validation_data = (X_val, Y_val))"
      ],
      "execution_count": 19,
      "outputs": [
        {
          "output_type": "stream",
          "name": "stdout",
          "text": [
            "Epoch 1/10\n",
            "100/100 [==============================] - 1s 4ms/step - loss: 0.1937 - accuracy: 0.9460 - val_loss: 0.1156 - val_accuracy: 0.9714\n",
            "Epoch 2/10\n",
            "100/100 [==============================] - 0s 2ms/step - loss: 0.0687 - accuracy: 0.9800 - val_loss: 0.0282 - val_accuracy: 1.0000\n",
            "Epoch 3/10\n",
            "100/100 [==============================] - 0s 2ms/step - loss: 0.0498 - accuracy: 0.9840 - val_loss: 0.0346 - val_accuracy: 0.9714\n",
            "Epoch 4/10\n",
            "100/100 [==============================] - 0s 2ms/step - loss: 0.0502 - accuracy: 0.9820 - val_loss: 0.1036 - val_accuracy: 0.9714\n",
            "Epoch 5/10\n",
            "100/100 [==============================] - 0s 2ms/step - loss: 0.0530 - accuracy: 0.9860 - val_loss: 0.0217 - val_accuracy: 1.0000\n",
            "Epoch 6/10\n",
            "100/100 [==============================] - 0s 2ms/step - loss: 0.0276 - accuracy: 0.9920 - val_loss: 0.0141 - val_accuracy: 1.0000\n",
            "Epoch 7/10\n",
            "100/100 [==============================] - 0s 2ms/step - loss: 0.0251 - accuracy: 0.9920 - val_loss: 0.0246 - val_accuracy: 0.9714\n",
            "Epoch 8/10\n",
            "100/100 [==============================] - 0s 2ms/step - loss: 0.0253 - accuracy: 0.9920 - val_loss: 0.0210 - val_accuracy: 1.0000\n",
            "Epoch 9/10\n",
            "100/100 [==============================] - 0s 2ms/step - loss: 0.0337 - accuracy: 0.9900 - val_loss: 0.0269 - val_accuracy: 1.0000\n",
            "Epoch 10/10\n",
            "100/100 [==============================] - 0s 2ms/step - loss: 0.0173 - accuracy: 0.9960 - val_loss: 0.0173 - val_accuracy: 1.0000\n"
          ]
        },
        {
          "output_type": "execute_result",
          "data": {
            "text/plain": [
              "<keras.callbacks.History at 0x7f98b1bc8f50>"
            ]
          },
          "metadata": {},
          "execution_count": 19
        }
      ]
    },
    {
      "cell_type": "code",
      "metadata": {
        "colab": {
          "base_uri": "https://localhost:8080/"
        },
        "id": "sxSvNe_MdNnj",
        "outputId": "7196e556-9b9e-4ec3-e3d1-f4cec75001eb"
      },
      "source": [
        "model.evaluate(X_test , Y_test)"
      ],
      "execution_count": 20,
      "outputs": [
        {
          "output_type": "stream",
          "name": "stdout",
          "text": [
            "2/2 [==============================] - 0s 7ms/step - loss: 0.3978 - accuracy: 0.9412\n"
          ]
        },
        {
          "output_type": "execute_result",
          "data": {
            "text/plain": [
              "[0.3977639377117157, 0.9411764740943909]"
            ]
          },
          "metadata": {},
          "execution_count": 20
        }
      ]
    },
    {
      "cell_type": "code",
      "metadata": {
        "colab": {
          "base_uri": "https://localhost:8080/"
        },
        "id": "W3cX2G56dRK9",
        "outputId": "038b802c-9c21-4962-ecad-39fa4c16f9f8"
      },
      "source": [
        "model.evaluate(X_val , Y_val)"
      ],
      "execution_count": 21,
      "outputs": [
        {
          "output_type": "stream",
          "name": "stdout",
          "text": [
            "2/2 [==============================] - 0s 5ms/step - loss: 0.0173 - accuracy: 1.0000\n"
          ]
        },
        {
          "output_type": "execute_result",
          "data": {
            "text/plain": [
              "[0.017268309369683266, 1.0]"
            ]
          },
          "metadata": {},
          "execution_count": 21
        }
      ]
    },
    {
      "cell_type": "code",
      "metadata": {
        "colab": {
          "base_uri": "https://localhost:8080/"
        },
        "id": "GzHAU6stdkZL",
        "outputId": "051a9810-ff9a-49fd-db12-56a11fb10e36"
      },
      "source": [
        "for i in range(30):\n",
        "  sample = X_test[i]\n",
        "  sample = np.reshape(sample, (1,30))\n",
        "\n",
        "  if (model.predict(sample)[0][0] > 0.5):\n",
        "    print(\"-Benign\")\n",
        "  else:\n",
        "    print(\"-Malignant\")\n",
        "\n",
        "  if (Y_test[i] == 1):\n",
        "    print(\"*Benign\")\n",
        "  else:\n",
        "    print(\"*Melignant\")\n",
        "  print(\"-----------\")"
      ],
      "execution_count": 26,
      "outputs": [
        {
          "output_type": "stream",
          "name": "stdout",
          "text": [
            "-Benign\n",
            "*Benign\n",
            "-----------\n",
            "-Benign\n",
            "*Benign\n",
            "-----------\n",
            "-Malignant\n",
            "*Melignant\n",
            "-----------\n",
            "-Malignant\n",
            "*Melignant\n",
            "-----------\n",
            "-Benign\n",
            "*Benign\n",
            "-----------\n",
            "-Malignant\n",
            "*Melignant\n",
            "-----------\n",
            "-Benign\n",
            "*Benign\n",
            "-----------\n",
            "-Benign\n",
            "*Benign\n",
            "-----------\n",
            "-Benign\n",
            "*Benign\n",
            "-----------\n",
            "-Benign\n",
            "*Benign\n",
            "-----------\n",
            "-Benign\n",
            "*Benign\n",
            "-----------\n",
            "-Benign\n",
            "*Benign\n",
            "-----------\n",
            "-Benign\n",
            "*Benign\n",
            "-----------\n",
            "-Benign\n",
            "*Melignant\n",
            "-----------\n",
            "-Malignant\n",
            "*Melignant\n",
            "-----------\n",
            "-Benign\n",
            "*Benign\n",
            "-----------\n",
            "-Malignant\n",
            "*Melignant\n",
            "-----------\n",
            "-Malignant\n",
            "*Melignant\n",
            "-----------\n",
            "-Benign\n",
            "*Benign\n",
            "-----------\n",
            "-Malignant\n",
            "*Melignant\n",
            "-----------\n",
            "-Benign\n",
            "*Benign\n",
            "-----------\n",
            "-Malignant\n",
            "*Melignant\n",
            "-----------\n",
            "-Benign\n",
            "*Benign\n",
            "-----------\n",
            "-Malignant\n",
            "*Melignant\n",
            "-----------\n",
            "-Benign\n",
            "*Benign\n",
            "-----------\n",
            "-Malignant\n",
            "*Melignant\n",
            "-----------\n",
            "-Benign\n",
            "*Benign\n",
            "-----------\n",
            "-Benign\n",
            "*Benign\n",
            "-----------\n",
            "-Malignant\n",
            "*Melignant\n",
            "-----------\n",
            "-Malignant\n",
            "*Melignant\n",
            "-----------\n"
          ]
        }
      ]
    },
    {
      "cell_type": "code",
      "metadata": {
        "colab": {
          "base_uri": "https://localhost:8080/"
        },
        "id": "_ZPMPStzeEhy",
        "outputId": "0dd85e33-7dbe-4502-e9ee-412be262740c"
      },
      "source": [
        "t = 0\n",
        "for i in Y_val:\n",
        "  if (i == 1):\n",
        "    t += 1\n",
        "\n",
        "print(t)"
      ],
      "execution_count": 28,
      "outputs": [
        {
          "output_type": "stream",
          "name": "stdout",
          "text": [
            "26\n"
          ]
        }
      ]
    },
    {
      "cell_type": "code",
      "metadata": {
        "colab": {
          "base_uri": "https://localhost:8080/"
        },
        "id": "Cq9CgphReJt0",
        "outputId": "22b90bd8-dbfd-4493-c833-1ded9d971442"
      },
      "source": [
        "t = 0\n",
        "for i in Y_test:\n",
        "  if (i == 1):\n",
        "    t += 1\n",
        "\n",
        "print(t)"
      ],
      "execution_count": 29,
      "outputs": [
        {
          "output_type": "stream",
          "name": "stdout",
          "text": [
            "21\n"
          ]
        }
      ]
    },
    {
      "cell_type": "code",
      "metadata": {
        "colab": {
          "base_uri": "https://localhost:8080/"
        },
        "id": "p9tHMeSjeZ0Y",
        "outputId": "192e877a-cf4c-4b07-f4a1-18b7f1a9ed0a"
      },
      "source": [
        "X_test[0] * -.1"
      ],
      "execution_count": 30,
      "outputs": [
        {
          "output_type": "execute_result",
          "data": {
            "text/plain": [
              "array([ 0.03343676,  0.07608692,  0.03636697,  0.04015563, -0.02946049,\n",
              "        0.04721   ,  0.03421144,  0.03925624,  0.0297985 , -0.02696836,\n",
              "        0.07065825,  0.08223576,  0.08094044,  0.04987145, -0.05613631,\n",
              "        0.0304494 ,  0.02832842,  0.0077234 , -0.06910799, -0.03521884,\n",
              "        0.0523751 ,  0.09358996,  0.05495848,  0.05189062, -0.06983674,\n",
              "        0.0301944 ,  0.02307056,  0.01371341, -0.07753121, -0.06591259])"
            ]
          },
          "metadata": {},
          "execution_count": 30
        }
      ]
    }
  ]
}