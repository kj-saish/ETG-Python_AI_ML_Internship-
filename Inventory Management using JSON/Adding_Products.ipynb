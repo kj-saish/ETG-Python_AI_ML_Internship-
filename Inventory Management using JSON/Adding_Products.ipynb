{
  "nbformat": 4,
  "nbformat_minor": 0,
  "metadata": {
    "colab": {
      "name": "Adding_Products.ipynb",
      "provenance": []
    },
    "kernelspec": {
      "name": "python3",
      "display_name": "Python 3"
    },
    "language_info": {
      "name": "python"
    }
  },
  "cells": [
    {
      "cell_type": "markdown",
      "metadata": {
        "id": "CGovRqlihdxt"
      },
      "source": [
        "## Creating Dictionary"
      ]
    },
    {
      "cell_type": "code",
      "metadata": {
        "id": "engCobxFhkP0"
      },
      "source": [
        "record = {\n",
        "    1001:{\"name\": \"Choco Cake\", \"qn\": 34, \"pr\": 100}, \n",
        "    1002:{\"name\": \"Milk Cake\", \"pr\": 800, \"qn\": 100},\n",
        "    1003:{\"name\": \"Choco Drink\", \"pr\": 85, \"qn\": 100},\n",
        "    1004:{\"name\": \"Candy\", \"pr\": 5, \"qn\": 1000},\n",
        "    1005:{\"name\": \"Vanilla Cake\", \"pr\": 20, \"qn\": 100},\n",
        "    1006:{\"name\": \"Pudding\", \"pr\": 50000, \"qn\": 10},\n",
        "    1007:{\"name\": \"Pasteries\", \"pr\": 1500, \"qn\": 10},\n",
        "    1008:{\"name\": \"Ice Cream\", \"pr\": 599, \"qn\": 5},\n",
        "    1009:{\"name\": \"Milk Shake\", \"pr\": 1999, \"qn\": 10},\n",
        "    1010:{\"name\": \"Brownies\", \"pr\": 2000, \"qn\": 100},\n",
        "    1011:{\"name\": \"Jellies\", \"pr\": 2200, \"qn\": 1005},\n",
        "    1012:{\"name\": \"Mango Cake\", \"pr\": 3009, \"qn\": 20},\n",
        "    1013:{\"name\": \"Cup Cakes\", \"pr\": 600, \"qn\": 170},\n",
        "    1014:{\"name\": \"Donuts\", \"pr\": 2399, \"qn\": 500},\n",
        "    1015:{\"name\": \"Chocolates\", \"pr\": 25, \"qn\": 5000},\n",
        "    1016:{\"name\": \"Pineapple Cake\", \"pr\": 1999, \"qn\": 100},\n",
        "    1017:{\"name\": \"Red Velvet Cake\", \"pr\": 5000, \"qn\": 110},\n",
        "    1018:{\"name\": \"Ice Cream Cake\", \"pr\": 3000, \"qn\": 1000},\n",
        "    1019:{\"name\": \"Macaroonn\", \"pr\": 2000, \"qn\": 500},\n",
        "    1020:{\"name\": \"Pan cakes\", \"pr\": 1300, \"qn\": 1000},\n",
        "    1021:{\"name\": \"Waffles\", \"pr\": 5, \"qn\": 3000},\n",
        "}"
      ],
      "execution_count": null,
      "outputs": []
    },
    {
      "cell_type": "code",
      "metadata": {
        "colab": {
          "base_uri": "https://localhost:8080/"
        },
        "id": "cDADWo_K-2Uw",
        "outputId": "2ac4a3e4-ff4b-4b31-f0ac-f20c4756fd9e"
      },
      "source": [
        "record"
      ],
      "execution_count": null,
      "outputs": [
        {
          "output_type": "execute_result",
          "data": {
            "text/plain": [
              "{1001: {'name': 'Choco Cake', 'pr': 100, 'qn': 34},\n",
              " 1002: {'name': 'Milk Cake', 'pr': 800, 'qn': 100},\n",
              " 1003: {'name': 'Choco Drink', 'pr': 85, 'qn': 100},\n",
              " 1004: {'name': 'Candy', 'pr': 5, 'qn': 1000},\n",
              " 1005: {'name': 'Vanilla Cake', 'pr': 20, 'qn': 100},\n",
              " 1006: {'name': 'Pudding', 'pr': 50000, 'qn': 10},\n",
              " 1007: {'name': 'Pasteries', 'pr': 1500, 'qn': 10},\n",
              " 1008: {'name': 'Ice Cream', 'pr': 599, 'qn': 5},\n",
              " 1009: {'name': 'Milk Shake', 'pr': 1999, 'qn': 10},\n",
              " 1010: {'name': 'Brownies', 'pr': 2000, 'qn': 100},\n",
              " 1011: {'name': 'Jellies', 'pr': 2200, 'qn': 1005},\n",
              " 1012: {'name': 'Mango Cake', 'pr': 3009, 'qn': 20},\n",
              " 1013: {'name': 'Cup Cakes', 'pr': 600, 'qn': 170},\n",
              " 1014: {'name': 'Donuts', 'pr': 2399, 'qn': 500},\n",
              " 1015: {'name': 'Chocolates', 'pr': 25, 'qn': 5000},\n",
              " 1016: {'name': 'Pineapple Cake', 'pr': 1999, 'qn': 100},\n",
              " 1017: {'name': 'Red Velvet Cake', 'pr': 5000, 'qn': 110},\n",
              " 1018: {'name': 'Ice Cream Cake', 'pr': 3000, 'qn': 1000},\n",
              " 1019: {'name': 'Macaroonn', 'pr': 2000, 'qn': 500},\n",
              " 1020: {'name': 'Pan cakes', 'pr': 1300, 'qn': 1000},\n",
              " 1021: {'name': 'Waffles', 'pr': 5, 'qn': 3000}}"
            ]
          },
          "metadata": {},
          "execution_count": 38
        }
      ]
    },
    {
      "cell_type": "markdown",
      "metadata": {
        "id": "dzdfBbikiDpf"
      },
      "source": [
        "## Creating JSON File "
      ]
    },
    {
      "cell_type": "code",
      "metadata": {
        "id": "qvdvqfkWiZDD"
      },
      "source": [
        "import json"
      ],
      "execution_count": null,
      "outputs": []
    },
    {
      "cell_type": "code",
      "metadata": {
        "id": "x1-JCq6cAR_8"
      },
      "source": [
        "js = json.dumps(record)"
      ],
      "execution_count": null,
      "outputs": []
    },
    {
      "cell_type": "code",
      "metadata": {
        "colab": {
          "base_uri": "https://localhost:8080/",
          "height": 124
        },
        "id": "HEfs0qdrASLo",
        "outputId": "494e650f-5fbd-4f4f-d0b9-19f156d81d80"
      },
      "source": [
        "js"
      ],
      "execution_count": null,
      "outputs": [
        {
          "output_type": "execute_result",
          "data": {
            "application/vnd.google.colaboratory.intrinsic+json": {
              "type": "string"
            },
            "text/plain": [
              "'{\"1001\": {\"name\": \"Choco Cake\", \"qn\": 34, \"pr\": 100}, \"1002\": {\"name\": \"Milk Cake\", \"pr\": 800, \"qn\": 100}, \"1003\": {\"name\": \"Choco Drink\", \"pr\": 85, \"qn\": 100}, \"1004\": {\"name\": \"Candy\", \"pr\": 5, \"qn\": 1000}, \"1005\": {\"name\": \"Vanilla Cake\", \"pr\": 20, \"qn\": 100}, \"1006\": {\"name\": \"Pudding\", \"pr\": 50000, \"qn\": 10}, \"1007\": {\"name\": \"Pasteries\", \"pr\": 1500, \"qn\": 10}, \"1008\": {\"name\": \"Ice Cream\", \"pr\": 599, \"qn\": 5}, \"1009\": {\"name\": \"Milk Shake\", \"pr\": 1999, \"qn\": 10}, \"1010\": {\"name\": \"Brownies\", \"pr\": 2000, \"qn\": 100}, \"1011\": {\"name\": \"Jellies\", \"pr\": 2200, \"qn\": 1005}, \"1012\": {\"name\": \"Mango Cake\", \"pr\": 3009, \"qn\": 20}, \"1013\": {\"name\": \"Cup Cakes\", \"pr\": 600, \"qn\": 170}, \"1014\": {\"name\": \"Donuts\", \"pr\": 2399, \"qn\": 500}, \"1015\": {\"name\": \"Chocolates\", \"pr\": 25, \"qn\": 5000}, \"1016\": {\"name\": \"Pineapple Cake\", \"pr\": 1999, \"qn\": 100}, \"1017\": {\"name\": \"Red Velvet Cake\", \"pr\": 5000, \"qn\": 110}, \"1018\": {\"name\": \"Ice Cream Cake\", \"pr\": 3000, \"qn\": 1000}, \"1019\": {\"name\": \"Macaroonn\", \"pr\": 2000, \"qn\": 500}, \"1020\": {\"name\": \"Pan cakes\", \"pr\": 1300, \"qn\": 1000}, \"1021\": {\"name\": \"Waffles\", \"pr\": 5, \"qn\": 3000}}'"
            ]
          },
          "metadata": {},
          "execution_count": 41
        }
      ]
    },
    {
      "cell_type": "code",
      "metadata": {
        "id": "H6AR3Ab9BAof"
      },
      "source": [
        "fd = open(\"record.json\",'w')\n",
        "fd.write(js)\n",
        "fd.close()"
      ],
      "execution_count": null,
      "outputs": []
    },
    {
      "cell_type": "markdown",
      "metadata": {
        "id": "PDmdnV4EiaHj"
      },
      "source": [
        "## Read Data from JSON"
      ]
    },
    {
      "cell_type": "code",
      "metadata": {
        "id": "Qcg1JpB_ifkT"
      },
      "source": [
        "fd = open(\"record.json\",'r')\n",
        "r = fd.read()\n",
        "fd.close()\n",
        "\n",
        "record = json.loads(r)"
      ],
      "execution_count": null,
      "outputs": []
    },
    {
      "cell_type": "code",
      "metadata": {
        "colab": {
          "base_uri": "https://localhost:8080/"
        },
        "id": "SXtqrnWQCaK8",
        "outputId": "f1167e23-2d99-4ca5-bab9-e90511158ef4"
      },
      "source": [
        "record"
      ],
      "execution_count": null,
      "outputs": [
        {
          "output_type": "execute_result",
          "data": {
            "text/plain": [
              "{'1001': {'name': 'Choco Cake', 'pr': 100, 'qn': 34},\n",
              " '1002': {'name': 'Milk Cake', 'pr': 800, 'qn': 100},\n",
              " '1003': {'name': 'Choco Drink', 'pr': 85, 'qn': 100},\n",
              " '1004': {'name': 'Candy', 'pr': 5, 'qn': 1000},\n",
              " '1005': {'name': 'Vanilla Cake', 'pr': 20, 'qn': 100},\n",
              " '1006': {'name': 'Pudding', 'pr': 50000, 'qn': 10},\n",
              " '1007': {'name': 'Pasteries', 'pr': 1500, 'qn': 10},\n",
              " '1008': {'name': 'Ice Cream', 'pr': 599, 'qn': 5},\n",
              " '1009': {'name': 'Milk Shake', 'pr': 1999, 'qn': 10},\n",
              " '1010': {'name': 'Brownies', 'pr': 2000, 'qn': 100},\n",
              " '1011': {'name': 'Jellies', 'pr': 2200, 'qn': 1005},\n",
              " '1012': {'name': 'Mango Cake', 'pr': 4500, 'qn': 50},\n",
              " '1013': {'name': 'Cup Cakes', 'pr': 600, 'qn': 170},\n",
              " '1014': {'name': 'Donuts', 'pr': 2399, 'qn': 500},\n",
              " '1015': {'name': 'Chocolates', 'pr': 25, 'qn': 5000},\n",
              " '1016': {'name': 'Pineapple Cake', 'pr': 1999, 'qn': 100},\n",
              " '1017': {'name': 'Red Velvet Cake', 'pr': 5000, 'qn': 110},\n",
              " '1018': {'name': 'Ice Cream Cake', 'pr': 3000, 'qn': 1000},\n",
              " '1019': {'name': 'Macroonns', 'pr': 4500, 'qn': 700},\n",
              " '1020': {'name': 'Pan cakes', 'pr': 1300, 'qn': 1000},\n",
              " '1021': {'name': 'Waffles', 'pr': 5, 'qn': 3000}}"
            ]
          },
          "metadata": {},
          "execution_count": 69
        }
      ]
    },
    {
      "cell_type": "markdown",
      "metadata": {
        "id": "OjTjWzwvilLM"
      },
      "source": [
        "## Add New Item into Inventory"
      ]
    },
    {
      "cell_type": "code",
      "metadata": {
        "id": "yY9Pf-gciv38",
        "colab": {
          "base_uri": "https://localhost:8080/"
        },
        "outputId": "938b9851-c61c-4402-9ce7-4eef80ff14c9"
      },
      "source": [
        "prod_id = str(input(\"Enter product id: \"))\n",
        "name = str(input(\"Enter name: \"))\n",
        "pr = int(input(\"Enter price: \"))\n",
        "qn = int(input(\"Enter quantity: \"))\n",
        "\n",
        "record[prod_id] = {'name': name, 'pr': pr, 'qn': qn}\n",
        "\n",
        "js = json.dumps(record)\n",
        "\n",
        "fd = open(\"record.json\",'w')\n",
        "fd.write(js)\n",
        "fd.close()"
      ],
      "execution_count": null,
      "outputs": [
        {
          "name": "stdout",
          "output_type": "stream",
          "text": [
            "Enter product id: 1022\n",
            "Enter name: Ferraro Rocher\n",
            "Enter price: 250\n",
            "Enter quantity: 10\n"
          ]
        }
      ]
    },
    {
      "cell_type": "code",
      "metadata": {
        "colab": {
          "base_uri": "https://localhost:8080/",
          "height": 124
        },
        "id": "OuBVRm2CDAnk",
        "outputId": "85b91516-0370-435c-c0f8-0828c2c22454"
      },
      "source": [
        "js"
      ],
      "execution_count": null,
      "outputs": [
        {
          "output_type": "execute_result",
          "data": {
            "application/vnd.google.colaboratory.intrinsic+json": {
              "type": "string"
            },
            "text/plain": [
              "'{\"1001\": {\"name\": \"Choco Cake\", \"qn\": 34, \"pr\": 100}, \"1002\": {\"name\": \"Milk Cake\", \"pr\": 800, \"qn\": 100}, \"1003\": {\"name\": \"Choco Drink\", \"pr\": 85, \"qn\": 100}, \"1004\": {\"name\": \"Candy\", \"pr\": 5, \"qn\": 1000}, \"1005\": {\"name\": \"Vanilla Cake\", \"pr\": 20, \"qn\": 100}, \"1006\": {\"name\": \"Pudding\", \"pr\": 50000, \"qn\": 10}, \"1007\": {\"name\": \"Pasteries\", \"pr\": 1500, \"qn\": 10}, \"1008\": {\"name\": \"Ice Cream\", \"pr\": 599, \"qn\": 5}, \"1009\": {\"name\": \"Milk Shake\", \"pr\": 1999, \"qn\": 10}, \"1010\": {\"name\": \"Brownies\", \"pr\": 2000, \"qn\": 100}, \"1011\": {\"name\": \"Jellies\", \"pr\": 2200, \"qn\": 1005}, \"1012\": {\"name\": \"Mango Cake\", \"pr\": 4500, \"qn\": 50}, \"1013\": {\"name\": \"Cup Cakes\", \"pr\": 600, \"qn\": 170}, \"1014\": {\"name\": \"Donuts\", \"pr\": 2399, \"qn\": 500}, \"1015\": {\"name\": \"Chocolates\", \"pr\": 25, \"qn\": 5000}, \"1016\": {\"name\": \"Pineapple Cake\", \"pr\": 1999, \"qn\": 100}, \"1017\": {\"name\": \"Red Velvet Cake\", \"pr\": 5000, \"qn\": 110}, \"1018\": {\"name\": \"Ice Cream Cake\", \"pr\": 3000, \"qn\": 1000}, \"1019\": {\"name\": \"Macroonns\", \"pr\": 4500, \"qn\": 700}, \"1020\": {\"name\": \"Pan cakes\", \"pr\": 1300, \"qn\": 1000}, \"1021\": {\"name\": \"Waffles\", \"pr\": 5, \"qn\": 3000}, \"1022\": {\"name\": \"Ferraro Rocher\", \"pr\": 250, \"qn\": 10}}'"
            ]
          },
          "metadata": {},
          "execution_count": 71
        }
      ]
    },
    {
      "cell_type": "markdown",
      "metadata": {
        "id": "OrJfa4g0Ummw"
      },
      "source": [
        "## Updating Items from Inventory"
      ]
    },
    {
      "cell_type": "code",
      "metadata": {
        "colab": {
          "base_uri": "https://localhost:8080/"
        },
        "id": "vXt-oMchU6GE",
        "outputId": "560bb9b4-482c-42b5-97a9-182105c4defc"
      },
      "source": [
        "update = input(\"Do you want to update[Yes/No] : \")\n",
        "\n",
        "if update == \"Yes\" or \"yes\" or \"YES\":\n",
        "    update_id = input(\"Which Product Id you have to update: \")\n",
        "    if update_id in record:\n",
        "        print(\"Old Items : \", record[update_id])\n",
        "        name = str(input(\"Enter name: \"))\n",
        "        pr = int(input(\"Enter price: \"))\n",
        "        qn = int(input(\"Enter quantity: \"))\n",
        "        record[update_id] = {'name': name, 'pr': pr, 'qn': qn}\n",
        "    else:\n",
        "        print(\"Please enter correct Product Id!!!\")\n",
        "elif update == \"No\" or \"NO\" or \"no\":\n",
        "    print(\"Cancelling Updating Process!!\")\n",
        "\n"
      ],
      "execution_count": null,
      "outputs": [
        {
          "name": "stdout",
          "output_type": "stream",
          "text": [
            "Do you want to update[Yes/No] : yes\n",
            "Which Product Id you have to update: 1019\n",
            "Old Items :  {'name': 'Macaroonn', 'pr': 2000, 'qn': 500}\n",
            "Enter name: Macroonns\n",
            "Enter price: 4500\n",
            "Enter quantity: 700\n"
          ]
        }
      ]
    },
    {
      "cell_type": "code",
      "metadata": {
        "id": "VaNqrDPIXbJT"
      },
      "source": [
        "js = json.dumps(record)\n",
        "\n",
        "fd = open(\"record.json\",'w')\n",
        "fd.write(js)\n",
        "fd.close()"
      ],
      "execution_count": null,
      "outputs": []
    },
    {
      "cell_type": "markdown",
      "metadata": {
        "id": "0RRQj6i3i9n9"
      },
      "source": [
        "## Deleting Item from Inventory"
      ]
    },
    {
      "cell_type": "code",
      "metadata": {
        "id": "YH6WJksxjJf7",
        "colab": {
          "base_uri": "https://localhost:8080/"
        },
        "outputId": "aad46265-c907-446b-a400-777399df0cdf"
      },
      "source": [
        "delete_id = input(\"Which Product Id you have to remove: \")\n",
        "if delete_id in record:\n",
        "    del record[delete_id]\n",
        "else:\n",
        "    print(\"Please enter correct Product Id!!!\")"
      ],
      "execution_count": null,
      "outputs": [
        {
          "name": "stdout",
          "output_type": "stream",
          "text": [
            "Which Product Id you have to remove: 1022\n"
          ]
        }
      ]
    },
    {
      "cell_type": "code",
      "metadata": {
        "colab": {
          "base_uri": "https://localhost:8080/"
        },
        "id": "Hyg5-U8oHgNp",
        "outputId": "8e9f07bf-ba64-4ae8-e5e8-e9bdcedcebab"
      },
      "source": [
        "record"
      ],
      "execution_count": null,
      "outputs": [
        {
          "output_type": "execute_result",
          "data": {
            "text/plain": [
              "{'1001': {'name': 'Choco Cake', 'pr': 100, 'qn': 34},\n",
              " '1002': {'name': 'Milk Cake', 'pr': 800, 'qn': 100},\n",
              " '1003': {'name': 'Choco Drink', 'pr': 85, 'qn': 100},\n",
              " '1004': {'name': 'Candy', 'pr': 5, 'qn': 1000},\n",
              " '1005': {'name': 'Vanilla Cake', 'pr': 20, 'qn': 100},\n",
              " '1006': {'name': 'Pudding', 'pr': 50000, 'qn': 10},\n",
              " '1007': {'name': 'Pasteries', 'pr': 1500, 'qn': 10},\n",
              " '1008': {'name': 'Ice Cream', 'pr': 599, 'qn': 5},\n",
              " '1009': {'name': 'Milk Shake', 'pr': 1999, 'qn': 10},\n",
              " '1010': {'name': 'Brownies', 'pr': 2000, 'qn': 100},\n",
              " '1011': {'name': 'Jellies', 'pr': 2200, 'qn': 1005},\n",
              " '1012': {'name': 'Mango Cake', 'pr': 4500, 'qn': 50},\n",
              " '1013': {'name': 'Cup Cakes', 'pr': 600, 'qn': 170},\n",
              " '1014': {'name': 'Donuts', 'pr': 2399, 'qn': 500},\n",
              " '1015': {'name': 'Chocolates', 'pr': 25, 'qn': 5000},\n",
              " '1016': {'name': 'Pineapple Cake', 'pr': 1999, 'qn': 100},\n",
              " '1017': {'name': 'Red Velvet Cake', 'pr': 5000, 'qn': 110},\n",
              " '1018': {'name': 'Ice Cream Cake', 'pr': 3000, 'qn': 1000},\n",
              " '1019': {'name': 'Macroonns', 'pr': 4500, 'qn': 700},\n",
              " '1020': {'name': 'Pan cakes', 'pr': 1300, 'qn': 1000},\n",
              " '1021': {'name': 'Waffles', 'pr': 5, 'qn': 3000}}"
            ]
          },
          "metadata": {},
          "execution_count": 65
        }
      ]
    },
    {
      "cell_type": "code",
      "metadata": {
        "id": "3iLfxn6gHkFf"
      },
      "source": [
        "js = json.dumps(record)\n",
        "\n",
        "fd = open(\"record.json\",'w')\n",
        "fd.write(js)\n",
        "fd.close()"
      ],
      "execution_count": null,
      "outputs": []
    }
  ]
}