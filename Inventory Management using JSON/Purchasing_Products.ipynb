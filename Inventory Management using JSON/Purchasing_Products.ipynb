{
  "nbformat": 4,
  "nbformat_minor": 0,
  "metadata": {
    "colab": {
      "name": "Purchasing_Products",
      "provenance": []
    },
    "kernelspec": {
      "name": "python3",
      "display_name": "Python 3"
    },
    "language_info": {
      "name": "python"
    }
  },
  "cells": [
    {
      "cell_type": "markdown",
      "metadata": {
        "id": "PulYz9dDkq7K"
      },
      "source": [
        "## Read Inventory"
      ]
    },
    {
      "cell_type": "code",
      "metadata": {
        "id": "VZGXOIhXkt-T"
      },
      "source": [
        "import json\n",
        "\n",
        "fd = open(\"record.json\",'r')\n",
        "r = fd.read()\n",
        "fd.close()\n",
        "\n",
        "record = json.loads(r)"
      ],
      "execution_count": null,
      "outputs": []
    },
    {
      "cell_type": "code",
      "metadata": {
        "colab": {
          "base_uri": "https://localhost:8080/"
        },
        "id": "Oe7E5PuZcpnD",
        "outputId": "ff08d6cc-a9ef-44b5-c843-bfc10c8c2c75"
      },
      "source": [
        "record"
      ],
      "execution_count": null,
      "outputs": [
        {
          "output_type": "execute_result",
          "data": {
            "text/plain": [
              "{'1001': {'name': 'Choco Cake', 'pr': 100, 'qn': 34},\n",
              " '1002': {'name': 'Milk Cake', 'pr': 800, 'qn': 85},\n",
              " '1003': {'name': 'Choco Drink', 'pr': 85, 'qn': 95},\n",
              " '1004': {'name': 'Candy', 'pr': 5, 'qn': 1000},\n",
              " '1005': {'name': 'Vanilla Cake', 'pr': 20, 'qn': 100},\n",
              " '1006': {'name': 'Pudding', 'pr': 50000, 'qn': 10},\n",
              " '1007': {'name': 'Pasteries', 'pr': 1500, 'qn': 10},\n",
              " '1008': {'name': 'Ice Cream', 'pr': 599, 'qn': 5},\n",
              " '1009': {'name': 'Milk Shake', 'pr': 1999, 'qn': 0},\n",
              " '1010': {'name': 'Brownies', 'pr': 2000, 'qn': 100},\n",
              " '1011': {'name': 'Jellies', 'pr': 2200, 'qn': 995},\n",
              " '1012': {'name': 'Mango Cake', 'pr': 4500, 'qn': 50},\n",
              " '1013': {'name': 'Cup Cakes', 'pr': 600, 'qn': 170},\n",
              " '1014': {'name': 'Donuts', 'pr': 2399, 'qn': 500},\n",
              " '1015': {'name': 'Chocolates', 'pr': 25, 'qn': 4991},\n",
              " '1016': {'name': 'Pineapple Cake', 'pr': 1999, 'qn': 100},\n",
              " '1017': {'name': 'Red Velvet Cake', 'pr': 5000, 'qn': 110},\n",
              " '1018': {'name': 'Ice Cream Cake', 'pr': 3000, 'qn': 1000},\n",
              " '1019': {'name': 'Macroonns', 'pr': 4500, 'qn': 700},\n",
              " '1020': {'name': 'Pan cakes', 'pr': 1300, 'qn': 1000},\n",
              " '1021': {'name': 'Waffles', 'pr': 5, 'qn': 2999},\n",
              " '1022': {'name': 'Ferraro Rocher', 'pr': 250, 'qn': 4}}"
            ]
          },
          "metadata": {},
          "execution_count": 137
        }
      ]
    },
    {
      "cell_type": "markdown",
      "metadata": {
        "id": "llL_R3Tukw8q"
      },
      "source": [
        "## Purchase"
      ]
    },
    {
      "cell_type": "code",
      "metadata": {
        "id": "_qCJg7rtk7ZL",
        "colab": {
          "base_uri": "https://localhost:8080/"
        },
        "outputId": "152c3e1c-bbe5-49e7-98f8-7693f49ce8df"
      },
      "source": [
        "from datetime import datetime  #for timestamp\n",
        "  \n",
        "ui_prod  = str(input(\"Enter the product_Id: \"))\n",
        "ui_quant = int(input(\"Enter the quantity: \"))\n",
        "\n",
        "if ui_quant > record[ui_prod]['qn']:\n",
        "  print(f\"Not Available\\nAvailable Item: {record[ui_prod]['qn']}\") \n",
        "else:\n",
        "  print(\"Product: \", record[ui_prod]['name'])\n",
        "  print(\"Price: \", record[ui_prod]['pr'])\n",
        "  print(\"Billing Amount: \", record[ui_prod]['pr'] * ui_quant)\n",
        "  records[ui_prod]['qn'] = record[ui_prod]['qn'] - ui_quant\n",
        "  tmstp = datetime.now().strftime(\"%Y_%m_%d-%I:%M:%S_%p\")\n",
        "  print(tmstp) "
      ],
      "execution_count": null,
      "outputs": [
        {
          "output_type": "stream",
          "name": "stdout",
          "text": [
            "Enter the product_Id: 1015\n",
            "Enter the quantity: 5\n",
            "Product:  Chocolates\n",
            "Price:  25\n",
            "Billing Amount:  125\n",
            "2021_09_06-04:41:36_PM\n"
          ]
        }
      ]
    },
    {
      "cell_type": "markdown",
      "metadata": {
        "id": "o1UeDmovk8Lf"
      },
      "source": [
        "\n",
        "## Update Inventory after Purchase"
      ]
    },
    {
      "cell_type": "code",
      "metadata": {
        "id": "m3SeYVLslEvF"
      },
      "source": [
        "\n",
        "js = json.dumps(record)\n",
        "\n",
        "fd = open(\"record.json\",'w')\n",
        "fd.write(js)\n",
        "fd.close()"
      ],
      "execution_count": null,
      "outputs": []
    },
    {
      "cell_type": "code",
      "metadata": {
        "colab": {
          "base_uri": "https://localhost:8080/"
        },
        "id": "xByh_8cbfM-h",
        "outputId": "88052b92-0ba1-4f18-b398-4bc6a6619deb"
      },
      "source": [
        "record"
      ],
      "execution_count": null,
      "outputs": [
        {
          "output_type": "execute_result",
          "data": {
            "text/plain": [
              "{'1001': {'name': 'Choco Cake', 'pr': 100, 'qn': 34},\n",
              " '1002': {'name': 'Milk Cake', 'pr': 800, 'qn': 85},\n",
              " '1003': {'name': 'Choco Drink', 'pr': 85, 'qn': 95},\n",
              " '1004': {'name': 'Candy', 'pr': 5, 'qn': 1000},\n",
              " '1005': {'name': 'Vanilla Cake', 'pr': 20, 'qn': 100},\n",
              " '1006': {'name': 'Pudding', 'pr': 50000, 'qn': 10},\n",
              " '1007': {'name': 'Pasteries', 'pr': 1500, 'qn': 10},\n",
              " '1008': {'name': 'Ice Cream', 'pr': 599, 'qn': 5},\n",
              " '1009': {'name': 'Milk Shake', 'pr': 1999, 'qn': 0},\n",
              " '1010': {'name': 'Brownies', 'pr': 2000, 'qn': 100},\n",
              " '1011': {'name': 'Jellies', 'pr': 2200, 'qn': 995},\n",
              " '1012': {'name': 'Mango Cake', 'pr': 4500, 'qn': 50},\n",
              " '1013': {'name': 'Cup Cakes', 'pr': 600, 'qn': 170},\n",
              " '1014': {'name': 'Donuts', 'pr': 2399, 'qn': 500},\n",
              " '1015': {'name': 'Chocolates', 'pr': 25, 'qn': 4991},\n",
              " '1016': {'name': 'Pineapple Cake', 'pr': 1999, 'qn': 100},\n",
              " '1017': {'name': 'Red Velvet Cake', 'pr': 5000, 'qn': 110},\n",
              " '1018': {'name': 'Ice Cream Cake', 'pr': 3000, 'qn': 1000},\n",
              " '1019': {'name': 'Macroonns', 'pr': 4500, 'qn': 700},\n",
              " '1020': {'name': 'Pan cakes', 'pr': 1300, 'qn': 1000},\n",
              " '1021': {'name': 'Waffles', 'pr': 5, 'qn': 2999},\n",
              " '1022': {'name': 'Ferraro Rocher', 'pr': 250, 'qn': 4}}"
            ]
          },
          "metadata": {},
          "execution_count": 133
        }
      ]
    },
    {
      "cell_type": "markdown",
      "metadata": {
        "id": "t6R51Z03lRyB"
      },
      "source": [
        "## Creating JSON file for Sales "
      ]
    },
    {
      "cell_type": "code",
      "metadata": {
        "id": "WATY_9C4ldFi"
      },
      "source": [
        "sales_file = open(\"sales.json\", 'r')\n",
        "sales_data = sales_file.read()\n",
        "sales_file.close()\n",
        "record = json.loads(sales_data)\n",
        "record[len(record)+1] =  {'prod':ui_prod, 'quan':ui_quant, 'amount':records[ui_prod]['pr']*ui_quant, 'timestamp':tmstp }\n",
        "\n",
        "fd = open(\"sales.json\",'w')\n",
        "all_sales= json.dumps(record)\n",
        "fd.write(all_sales)\n",
        "fd.close()\n"
      ],
      "execution_count": null,
      "outputs": []
    },
    {
      "cell_type": "code",
      "metadata": {
        "colab": {
          "base_uri": "https://localhost:8080/"
        },
        "id": "Uh8DwXQz3P4c",
        "outputId": "b759715d-b7af-4ae9-fc21-826928e64673"
      },
      "source": [
        "record"
      ],
      "execution_count": null,
      "outputs": [
        {
          "output_type": "execute_result",
          "data": {
            "text/plain": [
              "{'1': {'amount': 20,\n",
              "  'prod': '1005',\n",
              "  'quan': 1,\n",
              "  'timestamp': '2021_09_06-04:38:47_PM'},\n",
              " 2: {'amount': 125,\n",
              "  'prod': '1015',\n",
              "  'quan': 5,\n",
              "  'timestamp': '2021_09_06-04:41:36_PM'}}"
            ]
          },
          "metadata": {},
          "execution_count": 135
        }
      ]
    },
    {
      "cell_type": "code",
      "metadata": {
        "id": "aMe_3prA3Rfq"
      },
      "source": [
        ""
      ],
      "execution_count": null,
      "outputs": []
    }
  ]
}